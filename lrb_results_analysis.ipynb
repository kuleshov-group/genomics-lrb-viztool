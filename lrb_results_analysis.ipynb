{
 "cells": [
  {
   "cell_type": "code",
   "execution_count": null,
   "id": "b4e2de10f138a444",
   "metadata": {
    "pycharm": {
     "name": "#%%\n"
    }
   },
   "outputs": [],
   "source": [
    "from functools import partial\n",
    "from importlib import reload\n",
    "from os import path as osp\n",
    "\n",
    "import ipywidgets as widgets\n",
    "import pandas as pd\n",
    "from ast import literal_eval\n",
    "from IPython.display import display\n",
    "\n",
    "import src.multi_label_plotting\n",
    "import src.single_label_plotting\n",
    "import src.results_viz"
   ]
  },
  {
   "cell_type": "code",
   "execution_count": null,
   "id": "26fa23e858f8ae5d",
   "metadata": {
    "pycharm": {
     "name": "#%%\n"
    }
   },
   "outputs": [],
   "source": [
    "RESULTS_DIR = \"./results_with_annotations\"\n",
    "RESULTS_FILES = {\n",
    "    'vep_zero_shot_causal_eqtl': 'cleaned_annotated_combined_zero_shot_scores_labels_variant_effect_causal_eqtl.csv',\n",
    "    'vep_zero_shot_pathogenic_clinvar': 'cleaned_annotated_combined_zero_shot_scores_labels_variant_effect_pathogenic_clinvar.csv',\n",
    "    'vep_zero_shot_pathogenic_omim': 'cleaned_annotated_combined_zero_shot_scores_labels_variant_effect_pathogenic_omim.csv',\n",
    "    'vep_finetune_causal_eqtl': 'cleaned_annotated_combined_predictions_labels_variant_effect_causal_eqtl.csv',\n",
    "    'vep_finetune_pathogenic_clinvar': 'cleaned_annotated_combined_predictions_labels_variant_effect_pathogenic_clinvar.csv',\n",
    "    'chromatin_features_dna_accessibility': 'cleaned_annotated_combined_predictions_labels_chromatin_features_dna_accessibility.csv',\n",
    "    'chromatin_features_histone_marks': 'cleaned_annotated_combined_predictions_labels_chromatin_features_histone_marks.csv',\n",
    "    'regulatory_element_promoters': 'cleaned_annotated_combined_predictions_labels_regulatory_element_promoter.csv',\n",
    "    'regulatory_element_enhancers': 'cleaned_annotated_combined_predictions_labels_regulatory_element_enhancer.csv',\n",
    "    'bulk_rna_expression': 'cleaned_annotated_combined_predictions_labels_bulk_rna_expression.csv'\n",
    "}\n",
    "TASKS = list(RESULTS_FILES.keys())"
   ]
  },
  {
   "cell_type": "markdown",
   "id": "f6a26c03b9c38389",
   "metadata": {
    "pycharm": {
     "name": "#%% md\n"
    }
   },
   "source": [
    "### Choose task using dropdown and (re-)run cells below"
   ]
  },
  {
   "cell_type": "code",
   "execution_count": null,
   "id": "7e7554572fec5dc3",
   "metadata": {
    "pycharm": {
     "name": "#%%\n"
    }
   },
   "outputs": [],
   "source": [
    "task_dropdown = widgets.Dropdown(\n",
    "    options=TASKS,\n",
    "    description='Task:'\n",
    ")\n",
    "display(task_dropdown)"
   ]
  },
  {
   "cell_type": "code",
   "execution_count": null,
   "id": "a35c7369-6614-4a20-9a31-2d00d866db6e",
   "metadata": {},
   "outputs": [],
   "source": [
    "results_df_w_annotations = pd.read_csv(\n",
    "    osp.join(RESULTS_DIR, RESULTS_FILES[task_dropdown.value]), index_col=0, low_memory=False\n",
    ")"
   ]
  },
  {
   "cell_type": "code",
   "execution_count": null,
   "id": "e9988ab7",
   "metadata": {
    "collapsed": false,
    "jupyter": {
     "outputs_hidden": false
    },
    "pycharm": {
     "name": "#%%\n"
    }
   },
   "outputs": [],
   "source": [
    "base_models = None\n",
    "plot_fxn, plot_by_tss_dist_fxn, plot_by_annotation_fxn, plot_by_maf_fxn = None, None, None, None\n",
    "reload(src.results_viz)\n",
    "if 'vep' in task_dropdown.value or 'regulatory_element' in task_dropdown.value:\n",
    "    reload(src.single_label_plotting)\n",
    "    from src.single_label_plotting import plot_aucroc_auprc as plot_fxn    \n",
    "    from src.single_label_plotting import plot_aucroc_auprc_by_annotation as plot_by_annotation_fxn\n",
    "    \n",
    "    if 'regulatory_element' not in task_dropdown.value and 'eqtl' in task_dropdown.value:\n",
    "        from src.single_label_plotting import plot_aucroc_auprc_by_bucket as plot_by_tss_dist_fxn\n",
    "    if 'zero_shot' in task_dropdown.value:\n",
    "        plot_fxn = partial(plot_fxn, pred_col='Score')\n",
    "        if plot_by_annotation_fxn is not None:\n",
    "            plot_by_annotation_fxn = partial(plot_by_annotation_fxn, pred_col='Score',)\n",
    "        if plot_by_tss_dist_fxn is not None:\n",
    "            plot_by_tss_dist_fxn = partial(plot_by_tss_dist_fxn,\n",
    "                                           pred_col='Score', bucket_col='distance_to_nearest_TSS', bucket_display_str='Distance to TSS')\n",
    "        base_models = ('CADD', 'PhyloP')\n",
    "    else:\n",
    "        base_models = ('Enformer',)\n",
    "\n",
    "        \n",
    "elif 'bulk_rna_expression' == task_dropdown.value: \n",
    "    base_models = ('Enformer',)\n",
    "    from src.multi_label_plotting import plot_r2 as plot_fxn\n",
    "    from src.multi_label_plotting import plot_r2_by_bucket as plot_by_tss_dist_fxn\n",
    "    from src.multi_label_plotting import plot_r2_by_annotation as plot_by_annotation_fxn\n",
    "\n",
    "    \n",
    "elif 'chromatin_features' in task_dropdown.value:\n",
    "    reload(src.multi_label_plotting)\n",
    "    base_models = ('Deep Sea',)\n",
    "    from src.multi_label_plotting import plot_aucroc_auprc as plot_fxn\n",
    "    from src.multi_label_plotting import plot_aucroc_auprc_by_annotation as plot_by_annotation_fxn\n",
    "else:\n",
    "    plot_fxn, plot_by_tss_dist_fxn, plot_by_annotation_fxn = None, None, None\n",
    "    raise NotImplementedError(f'Plotting for task `{task_dropdown.value}` not implemented!')\n",
    "\n",
    "def is_annotation(column_name):\n",
    "    return (\n",
    "        column_name not in ['chromosome', 'position', 'start', 'stop', 'model', 'annotations', \n",
    "                            'tissues', 'Score', 'REF', 'ALT', 'split', 'distance_to_nearest_TSS', 'SNP', 'tissue',\n",
    "                            'SOURCE', 'CONSEQUENCE', 'ID', 'REVIEW_STATUS', 'GENOMIC_MUTATION_ID', 'N_SAMPLES', 'TOTAL_SAMPLES', 'FREQ',\n",
    "                             'OMIM', 'GENE', 'PMID', 'AC', 'AN', 'AF', 'MAF', 'MAC', 'INT_LABEL']\n",
    "        and 'probability' not in column_name\n",
    "        and 'label' not in column_name\n",
    "        and 'prediction' not in column_name\n",
    "        and 'dist' not in column_name\n",
    "    )\n",
    "# Custom annotations\n",
    "annotations = [\n",
    "    c for c in results_df_w_annotations.columns\n",
    "    if is_annotation(c)\n",
    "]\n",
    "\n",
    "from src.results_viz import ResultsViz"
   ]
  },
  {
   "cell_type": "code",
   "execution_count": null,
   "id": "ed651c27-57fb-4bfe-aa7c-bbfe1ab1db34",
   "metadata": {
    "pycharm": {
     "name": "#%%\n"
    }
   },
   "outputs": [],
   "source": [
    "ResultsViz(df=results_df_w_annotations,\n",
    "           base_models=base_models,\n",
    "           annotations=sorted(annotations),\n",
    "           models=sorted(results_df_w_annotations.model.unique()),\n",
    "           plot_fxn=plot_fxn,\n",
    "           plot_by_annotation_fxn=plot_by_annotation_fxn,\n",
    "           plot_by_tss_dist_fxn=plot_by_tss_dist_fxn,\n",
    "           distance_to='enhancer' if task_dropdown.value == 'bulk_rna_expression' else 'tss');"
   ]
  },
  {
   "cell_type": "code",
   "execution_count": null,
   "id": "168ca75b-f625-4a0a-88f0-41ce0a2bccfb",
   "metadata": {},
   "outputs": [],
   "source": []
  }
 ],
 "metadata": {
  "kernelspec": {
   "display_name": "Python 3 (ipykernel)",
   "language": "python",
   "name": "python3"
  },
  "language_info": {
   "codemirror_mode": {
    "name": "ipython",
    "version": 3
   },
   "file_extension": ".py",
   "mimetype": "text/x-python",
   "name": "python",
   "nbconvert_exporter": "python",
   "pygments_lexer": "ipython3",
   "version": "3.10.14"
  }
 },
 "nbformat": 4,
 "nbformat_minor": 5
}
